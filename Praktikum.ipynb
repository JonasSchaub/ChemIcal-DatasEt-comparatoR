{
 "cells": [
  {
   "cell_type": "markdown",
   "id": "10e14714",
   "metadata": {},
   "source": [
    "# Funktion\n",
    "- Vergleich von Datensätzen\n",
    "- Input: sdf-Dateinen\n",
    "- Output: Anzahl und Liste gleicher Elemente + visuelle Darstellung (Venn-Diagramm)"
   ]
  },
  {
   "cell_type": "code",
   "execution_count": 1,
   "id": "75d46a02",
   "metadata": {},
   "outputs": [],
   "source": [
    "'''Importieren der Libraries '''\n",
    "\n",
    "from rdkit import Chem\n",
    "from rdkit.Chem import AllChem\n",
    "from rdkit.Chem import Descriptors\n",
    "from rdkit.Chem import Draw\n",
    "\n",
    "import seaborn as sns\n",
    "\n",
    "import os\n",
    "\n",
    "import matplotlib.pyplot as plt\n",
    "\n",
    "from matplotlib_venn import venn2\n",
    "from matplotlib_venn import venn3"
   ]
  },
  {
   "cell_type": "code",
   "execution_count": 100,
   "id": "0355211c",
   "metadata": {},
   "outputs": [],
   "source": [
    "'''Datensätze für den Vergleich importieren'''\n",
    "\n",
    "set1 = Chem.SDMolSupplier('data/set_chlorbenzene.sdf')\n",
    "set2 = Chem.SDMolSupplier('data/set_phenole.sdf')\n",
    "set3 = Chem.SDMolSupplier('data/4xmol.sdf')\n",
    "set4 = Chem.SDMolSupplier('data/4xmol.sdf')"
   ]
  },
  {
   "cell_type": "code",
   "execution_count": 118,
   "id": "8d9aabcb",
   "metadata": {},
   "outputs": [],
   "source": [
    "'''SDF in InChiKey-Liste umwandeln'''\n",
    "\n",
    "def inchiliste(Datensatz, Vergleich = \"InChi\"):\n",
    "    liste = []\n",
    "    if Vergleich == \"Smiles\":\n",
    "        for mol in Datensatz:\n",
    "            smiles = Chem.MolToSmiles(mol)\n",
    "            liste.append(smiles)\n",
    "    else:\n",
    "        for mol in Datensatz:\n",
    "            inchikey = Chem.MolToInchiKey(mol)\n",
    "            liste.append(inchikey)\n",
    "    return liste"
   ]
  },
  {
   "cell_type": "code",
   "execution_count": 111,
   "id": "6ed84006",
   "metadata": {},
   "outputs": [],
   "source": [
    "liste1 = inchiliste(set1)\n",
    "liste2 = inchiliste(set2)\n",
    "liste3 = inchiliste(set3)\n",
    "liste4 = inchiliste(set4)"
   ]
  },
  {
   "cell_type": "code",
   "execution_count": 114,
   "id": "262d335a",
   "metadata": {},
   "outputs": [
    {
     "data": {
      "text/plain": [
       "0"
      ]
     },
     "execution_count": 114,
     "metadata": {},
     "output_type": "execute_result"
    },
    {
     "data": {
      "image/png": "[encoded data removed]",
      "text/plain": [
       "<Figure size 432x288 with 1 Axes>"
      ]
     },
     "metadata": {},
     "output_type": "display_data"
    }
   ],
   "source": [
    "'''Vergleich zwischen Listen'''\n",
    "\n",
    "def vergleich(list1, list2, list3):\n",
    "    s1 = set(list1)\n",
    "    s2 = set(list2)\n",
    "    s3 = set(list3)\n",
    "    s_all = set.intersection(s1, s2, s3)\n",
    "    venn3([s1, s2, s3])\n",
    "    return len(s_all) \n",
    "\n",
    "vergleich(liste1, liste2, liste3)"
   ]
  },
  {
   "cell_type": "code",
   "execution_count": null,
   "id": "557d5e56",
   "metadata": {},
   "outputs": [],
   "source": []
  }
 ],
 "metadata": {
  "kernelspec": {
   "display_name": "Python 3 (ipykernel)",
   "language": "python",
   "name": "python3"
  },
  "language_info": {
   "codemirror_mode": {
    "name": "ipython",
    "version": 3
   },
   "file_extension": ".py",
   "mimetype": "text/x-python",
   "name": "python",
   "nbconvert_exporter": "python",
   "pygments_lexer": "ipython3",
   "version": "3.7.11"
  }
 },
 "nbformat": 4,
 "nbformat_minor": 5
}
