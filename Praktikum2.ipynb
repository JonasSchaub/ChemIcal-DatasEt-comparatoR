{
 "cells": [
  {
   "cell_type": "markdown",
   "id": "10e14714",
   "metadata": {},
   "source": [
    "# To Do\n",
    "- Vergleich von Datensätzen\n",
    "- Input: sdf-Dateinen\n",
    "- Output: Anzahl und Liste gleicher Elemente + visuelle Darstellung (Venn-Diagramm)\n",
    "\n",
    "- Importieren der SD-Files in einem Dictionary\n",
    "- Größe der Datensätze vor dem Vergleich angeben\n",
    "- Benennung im Venn Diagramm"
   ]
  },
  {
   "cell_type": "code",
   "execution_count": 236,
   "id": "75d46a02",
   "metadata": {},
   "outputs": [],
   "source": [
    "'''Import of Libraries '''\n",
    "\n",
    "from rdkit import Chem\n",
    "from rdkit.Chem import AllChem\n",
    "from rdkit.Chem import Descriptors\n",
    "from rdkit.Chem import Draw\n",
    "\n",
    "import seaborn as sns\n",
    "\n",
    "import pandas as pd\n",
    "\n",
    "import os\n",
    "\n",
    "import matplotlib.pyplot as plt\n",
    "\n",
    "from matplotlib_venn import venn2\n",
    "from matplotlib_venn import venn3"
   ]
  },
  {
   "cell_type": "markdown",
   "id": "b8a1a44f",
   "metadata": {},
   "source": [
    "## Data Import"
   ]
  },
  {
   "cell_type": "code",
   "execution_count": 231,
   "id": "19560f5c",
   "metadata": {},
   "outputs": [
    {
     "data": {
      "text/plain": [
       "{'set_chlorbenzene-5.sdf': <rdkit.Chem.rdmolfiles.SDMolSupplier at 0x21c02ab7470>,\n",
       " 'set_chlorbenzene.sdf': <rdkit.Chem.rdmolfiles.SDMolSupplier at 0x21c02ab4970>,\n",
       " 'set_phenole.sdf': <rdkit.Chem.rdmolfiles.SDMolSupplier at 0x21c029e98f0>}"
      ]
     },
     "execution_count": 231,
     "metadata": {},
     "output_type": "execute_result"
    }
   ],
   "source": [
    "'''Dictionary out of different number of sd-Files'''\n",
    "\n",
    "def import_moleculesets(path_to_data: str) -> dict:\n",
    "    \"\"\"\n",
    "    This function returns a Dictionary (Key-Value-Pairs) of SDMolSupplier Objects (Value) and the name of the original \n",
    "    SDFile (Key) given the path to the SDFile as input.\n",
    "\n",
    "    Args:\n",
    "        path_to_data (str): Path to the directory where the SDFiles are stored (needs to be in '').\n",
    "\n",
    "    Returns:\n",
    "        dict: Dictionary of the SDFiles and the SDMolSupplier Objects.\n",
    "    \"\"\"\n",
    "    data_dir = os.path.normpath(str(path_to_data))\n",
    "    moleculesets = {}\n",
    "    for moleculeset_name in os.listdir(data_dir):\n",
    "        moleculeset_path = os.path.join(data_dir, moleculeset_name)\n",
    "        moleculesets[moleculeset_name] = Chem.SDMolSupplier(moleculeset_path)\n",
    "    return moleculesets \n",
    "\n",
    "testset = import_moleculesets('data')\n",
    "testset['set_phenole.sdf']\n",
    "testset"
   ]
  },
  {
   "cell_type": "markdown",
   "id": "bfa4dbfc",
   "metadata": {},
   "source": [
    "## Overview Data Size"
   ]
  },
  {
   "cell_type": "code",
   "execution_count": 232,
   "id": "72ca454e",
   "metadata": {},
   "outputs": [
    {
     "name": "stdout",
     "output_type": "stream",
     "text": [
      "Length of Molecule Sets:\n"
     ]
    },
    {
     "data": {
      "text/plain": [
       "[50, 100, 100]"
      ]
     },
     "execution_count": 232,
     "metadata": {},
     "output_type": "execute_result"
    }
   ],
   "source": [
    "'''Length of Moleculesets'''\n",
    "\n",
    "def get_moleculesets_length(moleculesets: dict):\n",
    "    \"\"\"\n",
    "    This function returns a list of lengths of the SDMolSupplier Objects in a given Dictionary.\n",
    "    \n",
    "    Args:\n",
    "        moleculesets (dict): Dictionary of imported SDFiles.\n",
    "        \n",
    "    Returns:\n",
    "        List[int]: List of Length of the Datasets.\n",
    "    \"\"\"\n",
    "    moleculesets_length = []\n",
    "    for moleculeset in moleculesets.values():\n",
    "        moleculeset_length = len(moleculeset)\n",
    "        moleculesets_length.append(moleculeset_length)\n",
    "    print('Length of Molecule Sets:')\n",
    "    return moleculesets_length\n",
    "\n",
    "get_moleculesets_length(testset)"
   ]
  },
  {
   "cell_type": "markdown",
   "id": "1d0ef088",
   "metadata": {},
   "source": [
    "## Get Identifier"
   ]
  },
  {
   "cell_type": "code",
   "execution_count": 145,
   "id": "60cc73f1",
   "metadata": {},
   "outputs": [],
   "source": [
    "'''Identifier-List for ONE Dataset'''\n",
    "\n",
    "def get_identifier_list(\n",
    "    moleculeset: Chem.SDMolSupplier, \n",
    "    id_type : str = \"InChIKey\"\n",
    "    ):\n",
    "    \"\"\"\n",
    "    This function returns a list of Chemical InChi or Smiles str for all molecules\n",
    "    in a given SDMolSupplier object.\n",
    "\n",
    "    Args:\n",
    "        moleculeset (rdkit.Chem.SDMolSupplier):\n",
    "        id_type (str, optional): \"InChIKey\" or \" \"Smiles\". Defaults to \"InChIKey\".\n",
    "\n",
    "    Raises:\n",
    "        ValueError: if ID_type is not \"InChIKey\" or \"Smiles\".\n",
    "\n",
    "    Returns:\n",
    "        List[str]: List of identifiers based on given molecules.\n",
    "    \"\"\"\n",
    "    identifier_list = []\n",
    "    for mol in moleculeset:\n",
    "        if id_type == \"Smiles\":\n",
    "            identifier = Chem.MolToSmiles(mol)\n",
    "        elif id_type == \"InChIKey\":\n",
    "            identifier = Chem.MolToInchiKey(mol)\n",
    "        else:\n",
    "            raise ValueError('id_type argument needs to be \"Smiles\" or \"InChIKey\"!')\n",
    "        identifier_list.append(identifier)\n",
    "    return identifier_list"
   ]
  },
  {
   "cell_type": "code",
   "execution_count": 146,
   "id": "c83a94eb",
   "metadata": {},
   "outputs": [],
   "source": [
    "'''Identifier-List for all Datasets in a Dictionary'''\n",
    "\n",
    "def get_identifier_lists(moleculesets: dict, id_type: str):\n",
    "    \"\"\"\n",
    "    This function returns a list of lists with Chemical Identifiers (Smiles or InChIKey) form a Dicitionary\n",
    "    with SDMolSupplier objects using the get_identifier_list function.\n",
    "    \n",
    "    Args:\n",
    "        moleculeset (dict): Dicitionary of SDMolSupplier Objects.\n",
    "        id_type (str): \"InChIKey\" or \" \"Smiles\".\n",
    "        \n",
    "    Returns:\n",
    "        List[List(str)]: List of Lists of Identifiers for the molecules in the entries in the Dicitionary.\n",
    "    \"\"\"\n",
    "    identifier_lists = []\n",
    "    for molset_name in moleculesets.keys():\n",
    "        identifier_list = get_identifier_list(moleculesets[molset_name], id_type)\n",
    "        identifier_lists.append(identifier_list)\n",
    "    return identifier_lists"
   ]
  },
  {
   "cell_type": "code",
   "execution_count": 161,
   "id": "4d9a40f6",
   "metadata": {},
   "outputs": [],
   "source": [
    "testlist = get_identifier_lists(testset, \"InChIKey\")"
   ]
  },
  {
   "cell_type": "code",
   "execution_count": 151,
   "id": "160ff3bc",
   "metadata": {},
   "outputs": [
    {
     "data": {
      "text/plain": [
       "100"
      ]
     },
     "execution_count": 151,
     "metadata": {},
     "output_type": "execute_result"
    }
   ],
   "source": [
    "len(testlist[2])"
   ]
  },
  {
   "cell_type": "markdown",
   "id": "895f3399",
   "metadata": {},
   "source": [
    "## Testing for Duplicates"
   ]
  },
  {
   "cell_type": "code",
   "execution_count": 171,
   "id": "d0292052",
   "metadata": {},
   "outputs": [
    {
     "data": {
      "text/plain": [
       "[0, 0, 2]"
      ]
     },
     "execution_count": 171,
     "metadata": {},
     "output_type": "execute_result"
    }
   ],
   "source": [
    "def test_for_duplicate(identifier_lists: list):\n",
    "    \"\"\"\n",
    "    This function returns the number of molecules with the same InChIKey or Smiles form the lists in a list of \n",
    "    InChiKeys or Smiles\n",
    "    \n",
    "    Args:\n",
    "        identifier_lists (list[list(str)]): List of lists with InChIKeys or Smiles\n",
    "        \n",
    "    Returns:\n",
    "        List[int]: List of the number of duplicates for each list in the input list (identifier_lists) \n",
    "    \"\"\"\n",
    "    list_of_duplicates = []\n",
    "    for sublist in identifier_lists:\n",
    "        if len(sublist) == len(set(sublist)):\n",
    "            list_of_duplicates.append(0)   \n",
    "        else:\n",
    "            duplicate = len(sublist) - len(set(sublist))\n",
    "            list_of_duplicates.append(duplicate)\n",
    "    return list_of_duplicates\n",
    "                    \n",
    "test_duplicate(testlist)"
   ]
  },
  {
   "cell_type": "code",
   "execution_count": 150,
   "id": "63ffb6fc",
   "metadata": {},
   "outputs": [
    {
     "data": {
      "text/plain": [
       "98"
      ]
     },
     "execution_count": 150,
     "metadata": {},
     "output_type": "execute_result"
    }
   ],
   "source": [
    "len(setinlist[2])"
   ]
  },
  {
   "cell_type": "markdown",
   "id": "dda22ebb",
   "metadata": {},
   "source": [
    "## Comparison and Visualisation"
   ]
  },
  {
   "cell_type": "code",
   "execution_count": 173,
   "id": "6287f638",
   "metadata": {},
   "outputs": [],
   "source": [
    "class WrongInputError(Exception):\n",
    "    pass\n",
    "\n",
    "def get_intersection(\n",
    "    *args\n",
    "    ):\n",
    "    \"\"\"\n",
    "    This function takes two or three lists of any type and returns the\n",
    "    set of elements that are in all given lists. Additionally, it generates\n",
    "    a venn diagram which is displayed when this function is called in a \n",
    "    Jupyter Notebook.\n",
    "\n",
    "    Raises:\n",
    "        Exception: An exception is raised if there are not two or three lists.\n",
    "\n",
    "    Returns:\n",
    "        set: Set of elements in intersection\n",
    "    \"\"\"\n",
    "    sets = [set(arg) for arg in args]\n",
    "    if len(args) == 2:\n",
    "        venn2(sets, set_labels = ('Group A', 'Group B'))\n",
    "    elif len(args) == 3:\n",
    "        venn3(sets, set_labels = ('A', 'B', 'C')) # original File name for the naming?\n",
    "    else:\n",
    "        raise WrongInputError('The number of given sets needs to be 2 or 3.')\n",
    "    plt.show()\n",
    "    return set.intersection(*sets)"
   ]
  },
  {
   "cell_type": "code",
   "execution_count": 235,
   "id": "96e9c375",
   "metadata": {},
   "outputs": [
    {
     "data": {
      "image/png": "[encoded data removed]",
      "text/plain": [
       "<Figure size 432x288 with 1 Axes>"
      ]
     },
     "metadata": {},
     "output_type": "display_data"
    },
    {
     "data": {
      "text/plain": [
       "{'AJPXTSMULZANCB-UHFFFAOYSA-N',\n",
       " 'BOFRXDMCQRTGII-UHFFFAOYSA-N',\n",
       " 'HFZWRUODUSTPEG-UHFFFAOYSA-N',\n",
       " 'HORNXRXVQWOLPJ-UHFFFAOYSA-N',\n",
       " 'ISPYQTSUDJAMAB-UHFFFAOYSA-N',\n",
       " 'NWSIFTLPLKCTSX-UHFFFAOYSA-N',\n",
       " 'RANCECPPZPIPNO-UHFFFAOYSA-N',\n",
       " 'UMPSXRYVXUPCOS-UHFFFAOYSA-N',\n",
       " 'WDNBURPWRNALGP-UHFFFAOYSA-N',\n",
       " 'WXNZTHHGJRFXKQ-UHFFFAOYSA-N'}"
      ]
     },
     "execution_count": 235,
     "metadata": {},
     "output_type": "execute_result"
    }
   ],
   "source": [
    "get_intersection(*testlist)"
   ]
  },
  {
   "cell_type": "markdown",
   "id": "0b1daceb",
   "metadata": {},
   "source": [
    "## Get Descriptor"
   ]
  },
  {
   "cell_type": "code",
   "execution_count": 221,
   "id": "c93fa45e",
   "metadata": {},
   "outputs": [
    {
     "data": {
      "text/plain": [
       "float"
      ]
     },
     "execution_count": 221,
     "metadata": {},
     "output_type": "execute_result"
    }
   ],
   "source": [
    "'''Molekular Weight Descriptor for ONE Input-List'''\n",
    "\n",
    "def get_molwt(moleculeset : Chem.SDMolSupplier) -> list: \n",
    "    \"\"\"\n",
    "    This function returns a List of Molecular Weights (float) for all Molecules\n",
    "    in a given SDMolSupplier object.\n",
    "    \n",
    "    Args:\n",
    "        moleculeset (rdkit.Chem.SDMolSupplier):\n",
    "    \n",
    "    Returns:\n",
    "        List[float]: List of Molecular Weights    \n",
    "    \"\"\"\n",
    "    molwt_list = []\n",
    "    for mol in moleculeset:\n",
    "        molwt = Descriptors.MolWt(mol)\n",
    "        molwt_list.append(molwt)\n",
    "    return molwt_list\n",
    "\n",
    "zahlen = get_molwt(testset['set_chlorbenzene-5.sdf'])\n",
    "type(zahlen[1])"
   ]
  },
  {
   "cell_type": "code",
   "execution_count": 324,
   "id": "6d498b9a",
   "metadata": {},
   "outputs": [],
   "source": [
    "'''Molekular Weight Descriptor for Dictionary'''\n",
    "\n",
    "def get_molwt_lists(moleculesets : dict) -> list:\n",
    "    \"\"\"\n",
    "    This function returns a list of lists with the Molecular Weight (float) of the SDMolSupplier Objects \n",
    "    in a Dicitionary.\n",
    "    \n",
    "    Args:\n",
    "        moleculesets (dict): Dicitionary with SDMolSupplier Objects as values\n",
    "        \n",
    "    Returns:\n",
    "        List[List[float]]: List of Lists with Molecular Weight as float number\n",
    "    \"\"\"\n",
    "    molwt_lists = []\n",
    "    for moleculeset in moleculesets.values():\n",
    "        molwt_list = get_molwt(moleculeset)\n",
    "        molwt_lists.append(molwt_list)\n",
    "    return molwt_lists\n",
    "\n",
    "mol_lists= get_molwt_lists(testset)"
   ]
  },
  {
   "cell_type": "markdown",
   "id": "91625c26",
   "metadata": {},
   "source": [
    "## Binning "
   ]
  },
  {
   "cell_type": "code",
   "execution_count": 251,
   "id": "a8ed040a",
   "metadata": {},
   "outputs": [
    {
     "data": {
      "text/plain": [
       "(141.944, 171.33]     46\n",
       "(171.33, 200.715]     29\n",
       "(112.412, 141.944]    15\n",
       "(200.715, 230.101]     8\n",
       "(230.101, 259.486]     2\n",
       "dtype: int64"
      ]
     },
     "execution_count": 251,
     "metadata": {},
     "output_type": "execute_result"
    }
   ],
   "source": [
    "'Binning for ONE List: binning dependent on given list'\n",
    "\n",
    "def get_bins_with_counts(molwt_list: list, number_of_bins: int):\n",
    "    \"\"\"\n",
    "    This function returns a pandas.core.series.Series Object with equal-width intervals for bins and the number of \n",
    "    elements (e.g. number of molecular weights) in every bin given a list of the elements and the number of bins\n",
    "    \n",
    "     Args:\n",
    "        molwt_list (list[float]): List of Elements (e.g. Molecular Weights)\n",
    "        number_of_bins: Number of Bins which should be used\n",
    "        \n",
    "    Returns:\n",
    "        pandas.core.series.Series: Interval of the bins and counts in every bin\n",
    "    \"\"\"\n",
    "    bins = pd.cut(molwt_list, number_of_bins)\n",
    "    counts = pd.value_counts(bins)\n",
    "    return counts\n",
    "\n",
    "get_bins_with_counts(mol_lists[1], 5)"
   ]
  },
  {
   "cell_type": "code",
   "execution_count": 311,
   "id": "6e195315",
   "metadata": {},
   "outputs": [
    {
     "data": {
      "text/plain": [
       "[(140.436, 149.728]    15\n",
       " (159.02, 168.313]      9\n",
       " (121.851, 131.144]     6\n",
       " (149.728, 159.02]      6\n",
       " (168.313, 177.605]     6\n",
       " (177.605, 186.897]     3\n",
       " (196.19, 205.482]      3\n",
       " (112.466, 121.851]     1\n",
       " (186.897, 196.19]      1\n",
       " (131.144, 140.436]     0\n",
       " dtype: int64,\n",
       " (141.944, 156.637]    26\n",
       " (171.33, 186.022]     23\n",
       " (156.637, 171.33]     20\n",
       " (127.252, 141.944]    12\n",
       " (186.022, 200.715]     6\n",
       " (200.715, 215.408]     6\n",
       " (112.412, 127.252]     3\n",
       " (215.408, 230.101]     2\n",
       " (244.793, 259.486]     2\n",
       " (230.101, 244.793]     0\n",
       " dtype: int64,\n",
       " (125.671, 141.451]    33\n",
       " (141.451, 157.23]     20\n",
       " (109.892, 125.671]    17\n",
       " (157.23, 173.009]      9\n",
       " (93.955, 109.892]      7\n",
       " (173.009, 188.788]     6\n",
       " (188.788, 204.567]     6\n",
       " (204.567, 220.347]     1\n",
       " (236.126, 251.905]     1\n",
       " (220.347, 236.126]     0\n",
       " dtype: int64]"
      ]
     },
     "execution_count": 311,
     "metadata": {},
     "output_type": "execute_result"
    }
   ],
   "source": [
    "def get_bin_lists(molwt_lists: list, number_of_bins: int):\n",
    "    \"\"\"\n",
    "    This function returns a List of pandas.core.series.Series Object with equal-width intervals for bins and the number of \n",
    "    elements (e.g. number of molecular weights) in every bin given a List of Lists with elements and the number of bins\n",
    "    \n",
    "     Args:\n",
    "        molwt_lists (list[list[float]]): List of Lists of Elements (e.g. Molecular Weights)\n",
    "        \n",
    "    Returns:\n",
    "        List[pandas.core.series.Series]: List of Interval of the bins and counts in every bin\n",
    "    \"\"\"\n",
    "    \n",
    "    bin_lists = []\n",
    "    for molwt_list in molwt_lists:\n",
    "        bin_list = get_bins_with_counts(molwt_list, number_of_bins)\n",
    "        bin_lists.append(bin_list)\n",
    "    return bin_lists\n",
    "\n",
    "bin_lists = get_bin_lists(mol_lists, 10)\n",
    "bin_lists"
   ]
  },
  {
   "cell_type": "code",
   "execution_count": 368,
   "id": "3643f3d3",
   "metadata": {},
   "outputs": [
    {
     "data": {
      "text/plain": [
       "(100, 110]     0\n",
       "(110, 120]     1\n",
       "(120, 130]     6\n",
       "(130, 140]     0\n",
       "(140, 150]    24\n",
       "(150, 160]    12\n",
       "(160, 170]    17\n",
       "(170, 180]    19\n",
       "(180, 190]     5\n",
       "(190, 200]     6\n",
       "(200, 210]     5\n",
       "(210, 220]     1\n",
       "(220, 230]     2\n",
       "(230, 240]     0\n",
       "(240, 250]     0\n",
       "(250, 260]     2\n",
       "(260, 270]     0\n",
       "(270, 280]     0\n",
       "(280, 290]     0\n",
       "(290, 300]     0\n",
       "dtype: int64"
      ]
     },
     "execution_count": 368,
     "metadata": {},
     "output_type": "execute_result"
    }
   ],
   "source": [
    "'Binning for ONE List: binning independent from given list -> better for comparison(?)'\n",
    "\n",
    "def get_bins_with_counts_2(molwt_list: list, width_of_bins: int):\n",
    "    \"\"\"\n",
    "    This function returns a pandas.core.series.Series Object with equal-width intervals as bins and the number of \n",
    "    elements (e.g. number of molecular weights) in every bin given a list of the elements and the widht of bins\n",
    "    \n",
    "     Args:\n",
    "        molwt_list (list[float]): List of Elements (e.g. Molecular Weights)\n",
    "        width_of_bins (int): Widht of the Intervals for the bins\n",
    "        \n",
    "    Returns:\n",
    "        pandas.core.series.Series: Interval of the bins and counts in every bin\n",
    "    \"\"\"\n",
    "    if min(molwt_list) > 100 and max(molwt_list) < 300: # threshold to be discussed\n",
    "        bins = pd.interval_range(start=100, end=300, freq = width_of_bins )\n",
    "    elif min(molwt_list) > 100 and max(molwt_list) > 300:\n",
    "        bins = pd.interval_range(start=100, end=500, freq = width_of_bins)\n",
    "    elif min(molwt_list) < 100 and max(molwt_list) < 300:\n",
    "        bins = pd.interval_range(start=0, end=300, freq = width_of_bins)\n",
    "    else:\n",
    "        bins = pd.interval_range(start=0, end=500, freq = width_of_bins)\n",
    "    sorted_data = pd.cut(molwt_list, bins)\n",
    "    counts = pd.value_counts(sorted_data, sort=False)\n",
    "    return counts\n",
    "\n",
    "get_bins_with_counts_2(mol_lists[1], 10)"
   ]
  },
  {
   "cell_type": "code",
   "execution_count": 413,
   "id": "f9b0bdd1",
   "metadata": {},
   "outputs": [
    {
     "data": {
      "text/plain": [
       "[(100, 120]     1\n",
       " (120, 140]     6\n",
       " (140, 160]    21\n",
       " (160, 180]    15\n",
       " (180, 200]     4\n",
       " (200, 220]     3\n",
       " (220, 240]     0\n",
       " (240, 260]     0\n",
       " (260, 280]     0\n",
       " (280, 300]     0\n",
       " dtype: int64,\n",
       " (100, 120]     1\n",
       " (120, 140]     6\n",
       " (140, 160]    36\n",
       " (160, 180]    36\n",
       " (180, 200]    11\n",
       " (200, 220]     6\n",
       " (220, 240]     2\n",
       " (240, 260]     2\n",
       " (260, 280]     0\n",
       " (280, 300]     0\n",
       " dtype: int64,\n",
       " (0, 20]        0\n",
       " (20, 40]       0\n",
       " (40, 60]       0\n",
       " (60, 80]       0\n",
       " (80, 100]      1\n",
       " (100, 120]    12\n",
       " (120, 140]    43\n",
       " (140, 160]    21\n",
       " (160, 180]    14\n",
       " (180, 200]     6\n",
       " (200, 220]     2\n",
       " (220, 240]     0\n",
       " (240, 260]     1\n",
       " (260, 280]     0\n",
       " (280, 300]     0\n",
       " dtype: int64]"
      ]
     },
     "execution_count": 413,
     "metadata": {},
     "output_type": "execute_result"
    }
   ],
   "source": [
    "def get_bin_lists2(molwt_lists: list, width_of_bins: int):\n",
    "    \"\"\"\n",
    "    This function returns a List of pandas.core.series.Series Object with equal-width intervals for bins and the number of \n",
    "    elements (e.g. number of molecular weights) in every bin given a List of Lists with elements and the number of bins\n",
    "    \n",
    "     Args:\n",
    "        molwt_lists (list[list[float]]): List of Lists of Elements (e.g. Molecular Weights)\n",
    "        \n",
    "    Returns:\n",
    "        List[pandas.core.series.Series]: List of Interval of the bins and counts in every bin\n",
    "    \"\"\"\n",
    "    \n",
    "    bin_lists = []\n",
    "    for molwt_list in molwt_lists:\n",
    "        bin_list = get_bins_with_counts_2(molwt_list, width_of_bins)\n",
    "        bin_lists.append(bin_list)\n",
    "    return bin_lists\n",
    "\n",
    "bin_lists2 = get_bin_lists2(mol_lists, 20)\n",
    "bin_lists2"
   ]
  },
  {
   "cell_type": "markdown",
   "id": "229e3c60",
   "metadata": {},
   "source": [
    "## Plot"
   ]
  },
  {
   "cell_type": "code",
   "execution_count": 437,
   "id": "bbd387fa",
   "metadata": {},
   "outputs": [
    {
     "data": {
      "text/plain": [
       "<AxesSubplot:ylabel='Frequency'>"
      ]
     },
     "execution_count": 437,
     "metadata": {},
     "output_type": "execute_result"
    },
    {
     "data": {
      "image/png": "[encoded data removed]",
      "text/plain": [
       "<Figure size 432x288 with 1 Axes>"
      ]
     },
     "metadata": {},
     "output_type": "display_data"
    },
    {
     "data": {
      "image/png": "[encoded data removed]",
      "text/plain": [
       "<Figure size 432x288 with 1 Axes>"
      ]
     },
     "metadata": {},
     "output_type": "display_data"
    }
   ],
   "source": [
    "sns.set(style=\"whitegrid\")\n",
    "\n",
    "df = pd.DataFrame(bin_lists2, index =['Set1', 'Set2', 'Set3'])\n",
    "df.plot.bar()\n",
    "df.plot.hist()\n"
   ]
  },
  {
   "cell_type": "markdown",
   "id": "da8777a2",
   "metadata": {},
   "source": [
    "## Unimportant (testing and old things)"
   ]
  },
  {
   "cell_type": "code",
   "execution_count": 353,
   "id": "fcf19f79",
   "metadata": {},
   "outputs": [
    {
     "data": {
      "text/plain": [
       "[Text(0.5, 0, 'Molecular Weight Intervals'), Text(0, 0.5, 'Counts')]"
      ]
     },
     "execution_count": 353,
     "metadata": {},
     "output_type": "execute_result"
    },
    {
     "data": {
      "image/png": "[encoded data removed]",
      "text/plain": [
       "<Figure size 432x288 with 1 Axes>"
      ]
     },
     "metadata": {},
     "output_type": "display_data"
    }
   ],
   "source": [
    "sns.set(style=\"darkgrid\")\n",
    "\n",
    "q = bin_lists2[1].plot(kind='bar')\n",
    "q.set(xlabel = \"Molecular Weight Intervals\", ylabel = \"Counts\")"
   ]
  },
  {
   "cell_type": "code",
   "execution_count": 355,
   "id": "eb17030e",
   "metadata": {},
   "outputs": [
    {
     "name": "stdout",
     "output_type": "stream",
     "text": [
      "AxesSubplot(0.125,0.125;0.775x0.755)\n",
      "AxesSubplot(0.125,0.125;0.775x0.755)\n",
      "AxesSubplot(0.125,0.125;0.775x0.755)\n"
     ]
    },
    {
     "data": {
      "image/png": "[encoded data removed]",
      "text/plain": [
       "<Figure size 432x288 with 1 Axes>"
      ]
     },
     "metadata": {},
     "output_type": "display_data"
    }
   ],
   "source": [
    "for bin_list in bin_lists2:\n",
    "    p = bin_list.plot(kind='bar')\n",
    "    p.set(xlabel = \"MW Intervals\", ylabel = \"Counts\")\n",
    "    print(p)\n",
    "    "
   ]
  },
  {
   "cell_type": "code",
   "execution_count": null,
   "id": "5de75f5f",
   "metadata": {},
   "outputs": [],
   "source": []
  },
  {
   "cell_type": "code",
   "execution_count": 379,
   "id": "b702a07d",
   "metadata": {},
   "outputs": [
    {
     "data": {
      "text/plain": [
       "<AxesSubplot:>"
      ]
     },
     "execution_count": 379,
     "metadata": {},
     "output_type": "execute_result"
    },
    {
     "data": {
      "image/png": "[encoded data removed]",
      "text/plain": [
       "<Figure size 432x288 with 1 Axes>"
      ]
     },
     "metadata": {},
     "output_type": "display_data"
    }
   ],
   "source": [
    "df = pd.DataFrame(bin_lists2)\n",
    "\n",
    "sns.barplot(data=df)"
   ]
  },
  {
   "cell_type": "code",
   "execution_count": 320,
   "id": "06dee30e",
   "metadata": {},
   "outputs": [
    {
     "data": {
      "text/plain": [
       "<AxesSubplot:>"
      ]
     },
     "execution_count": 320,
     "metadata": {},
     "output_type": "execute_result"
    },
    {
     "data": {
      "image/png": "[encoded data removed]",
      "text/plain": [
       "<Figure size 432x288 with 1 Axes>"
      ]
     },
     "metadata": {},
     "output_type": "display_data"
    }
   ],
   "source": [
    "df2 = pd.DataFrame(bin_lists[2])\n",
    "\n",
    "sns.barplot(data=df2)\n",
    "#sns.histplot(data=df2)"
   ]
  },
  {
   "cell_type": "code",
   "execution_count": 303,
   "id": "6793526d",
   "metadata": {},
   "outputs": [
    {
     "name": "stdout",
     "output_type": "stream",
     "text": [
      "AxesSubplot(0.125,0.125;0.775x0.755) AxesSubplot(0.125,0.125;0.775x0.755)\n"
     ]
    },
    {
     "data": {
      "text/plain": [
       "matplotlib.axes._subplots.AxesSubplot"
      ]
     },
     "execution_count": 303,
     "metadata": {},
     "output_type": "execute_result"
    },
    {
     "data": {
      "image/png": "[encoded data removed]",
      "text/plain": [
       "<Figure size 432x288 with 1 Axes>"
      ]
     },
     "metadata": {},
     "output_type": "display_data"
    }
   ],
   "source": [
    "sns.set(style=\"darkgrid\")\n",
    "\n",
    "\n",
    "q = bin_lists[1].plot(kind='bar')\n",
    "q.set(xlabel = \"Intervals\", ylabel = \"Counts\")\n",
    "\n",
    "p = bin_lists[0].plot(kind='bar')\n",
    "p.set_xlabel(\"Intervals\")\n",
    "p.set_ylabel(\"Counts\")\n",
    "\n",
    "print(p, q)\n",
    "\n",
    "type(p)"
   ]
  },
  {
   "cell_type": "code",
   "execution_count": 300,
   "id": "93fa985a",
   "metadata": {},
   "outputs": [
    {
     "name": "stdout",
     "output_type": "stream",
     "text": [
      "AxesSubplot(0.125,0.125;0.775x0.755)\n",
      "AxesSubplot(0.125,0.125;0.775x0.755)\n",
      "AxesSubplot(0.125,0.125;0.775x0.755)\n"
     ]
    },
    {
     "data": {
      "image/png": "[encoded data removed]",
      "text/plain": [
       "<Figure size 432x288 with 1 Axes>"
      ]
     },
     "metadata": {},
     "output_type": "display_data"
    }
   ],
   "source": [
    "for bin_list in binned_lists:\n",
    "    p = bin_list.plot(kind='bar')\n",
    "    p.set(xlabel = \"Intervals\", ylabel = \"Counts\")\n",
    "    print(p)\n",
    "    "
   ]
  },
  {
   "cell_type": "code",
   "execution_count": 252,
   "id": "481c36e5",
   "metadata": {},
   "outputs": [
    {
     "data": {
      "text/plain": [
       "pandas.core.series.Series"
      ]
     },
     "execution_count": 252,
     "metadata": {},
     "output_type": "execute_result"
    }
   ],
   "source": [
    "bins = pd.interval_range(start=0, end=6, periods=4)\n",
    "\n",
    "tesst = pd.cut(mol_lists[1], 5)\n",
    "\n",
    "bild = pd.value_counts(tesst)\n",
    "type(bild)"
   ]
  },
  {
   "cell_type": "code",
   "execution_count": 249,
   "id": "0d9f0721",
   "metadata": {},
   "outputs": [
    {
     "data": {
      "text/plain": [
       "<AxesSubplot:ylabel='Frequency'>"
      ]
     },
     "execution_count": 249,
     "metadata": {},
     "output_type": "execute_result"
    },
    {
     "data": {
      "image/png": "[encoded data removed]",
      "text/plain": [
       "<Figure size 432x288 with 1 Axes>"
      ]
     },
     "metadata": {
      "needs_background": "light"
     },
     "output_type": "display_data"
    }
   ],
   "source": [
    "bild.plot(kind='hist')"
   ]
  },
  {
   "cell_type": "code",
   "execution_count": 229,
   "id": "14c96300",
   "metadata": {},
   "outputs": [
    {
     "data": {
      "text/plain": [
       "{'AJPXTSMULZANCB-UHFFFAOYSA-N',\n",
       " 'BOFRXDMCQRTGII-UHFFFAOYSA-N',\n",
       " 'HFZWRUODUSTPEG-UHFFFAOYSA-N',\n",
       " 'HORNXRXVQWOLPJ-UHFFFAOYSA-N',\n",
       " 'ISPYQTSUDJAMAB-UHFFFAOYSA-N',\n",
       " 'NWSIFTLPLKCTSX-UHFFFAOYSA-N',\n",
       " 'RANCECPPZPIPNO-UHFFFAOYSA-N',\n",
       " 'UMPSXRYVXUPCOS-UHFFFAOYSA-N',\n",
       " 'WDNBURPWRNALGP-UHFFFAOYSA-N',\n",
       " 'WXNZTHHGJRFXKQ-UHFFFAOYSA-N'}"
      ]
     },
     "execution_count": 229,
     "metadata": {},
     "output_type": "execute_result"
    },
    {
     "data": {
      "image/png": "[encoded data removed]",
      "text/plain": [
       "<Figure size 432x288 with 1 Axes>"
      ]
     },
     "metadata": {},
     "output_type": "display_data"
    }
   ],
   "source": [
    "def get_list_of_sets(list_of_lists):\n",
    "    list_of_sets = [set(list_in_list) for list_in_list in list_of_lists]\n",
    "    return list_of_sets\n",
    "\n",
    "setinlist = get_list_of_sets(testlist)\n",
    "type(setinlist[0])\n",
    "\n",
    "venn2([setinlist[0], setinlist[2]], set_labels=('Data_1', 'Data_2'))\n",
    "set.intersection(setinlist[0], setinlist[2])"
   ]
  },
  {
   "cell_type": "code",
   "execution_count": 5,
   "id": "8d9aabcb",
   "metadata": {},
   "outputs": [],
   "source": [
    "'''SDF in InChiKey-Liste umwandeln'''\n",
    "\n",
    "def inchiliste(Datensatz, Vergleich = \"InChi\"):\n",
    "    liste = []\n",
    "    if Vergleich == \"Smiles\":\n",
    "        for mol in Datensatz:\n",
    "            smiles = Chem.MolToSmiles(mol)\n",
    "            liste.append(smiles)\n",
    "    else:\n",
    "        for mol in Datensatz:\n",
    "            inchikey = Chem.MolToInchiKey(mol)\n",
    "            liste.append(inchikey)\n",
    "    return liste"
   ]
  },
  {
   "cell_type": "code",
   "execution_count": 6,
   "id": "6ed84006",
   "metadata": {},
   "outputs": [],
   "source": [
    "liste1 = inchiliste(set1)\n",
    "liste2 = inchiliste(set2)\n",
    "liste3 = inchiliste(set3)\n",
    "liste4 = inchiliste(set4)"
   ]
  },
  {
   "cell_type": "code",
   "execution_count": 7,
   "id": "262d335a",
   "metadata": {},
   "outputs": [
    {
     "data": {
      "text/plain": [
       "0"
      ]
     },
     "execution_count": 7,
     "metadata": {},
     "output_type": "execute_result"
    },
    {
     "data": {
      "image/png": "[encoded data removed]",
      "text/plain": [
       "<Figure size 432x288 with 1 Axes>"
      ]
     },
     "metadata": {},
     "output_type": "display_data"
    }
   ],
   "source": [
    "'''Vergleich zwischen drei Listen'''\n",
    "\n",
    "def vergleich(list1, list2, list3):\n",
    "    s1 = set(list1)\n",
    "    s2 = set(list2)\n",
    "    s3 = set(list3)\n",
    "    s_all = set.intersection(s1, s2, s3)\n",
    "    venn3([s1, s2, s3])\n",
    "    return len(s_all) \n",
    "\n",
    "vergleich(liste1, liste2, liste3)"
   ]
  },
  {
   "cell_type": "code",
   "execution_count": 27,
   "id": "557d5e56",
   "metadata": {},
   "outputs": [
    {
     "data": {
      "text/plain": [
       "13"
      ]
     },
     "execution_count": 27,
     "metadata": {},
     "output_type": "execute_result"
    },
    {
     "data": {
      "image/png": "[encoded data removed]",
      "text/plain": [
       "<Figure size 432x288 with 1 Axes>"
      ]
     },
     "metadata": {},
     "output_type": "display_data"
    }
   ],
   "source": [
    "'Vergleich zwischen zwei oder drei Listen'\n",
    "\n",
    "def vergleich2(list1, list2, list3):\n",
    "    if list3:\n",
    "        s1 = set(list1)\n",
    "        s2 = set(list2)\n",
    "        s3 = set(list3)\n",
    "        s_all = set.intersection(s1, s2, s3)\n",
    "        venn3([s1, s2, s3])\n",
    "        return len(s_all)\n",
    "    elif list2:\n",
    "        s1 = set(list1)\n",
    "        s2 = set(list2)\n",
    "        s_all = set.intersection(s1, s2)\n",
    "        venn2([s1, s2])\n",
    "        return len(s_all)\n",
    "    else:\n",
    "        return 'Kein Vergleich'\n",
    "    \n",
    "vergleich2(liste2, liste1, False)"
   ]
  }
 ],
 "metadata": {
  "kernelspec": {
   "display_name": "Python 3 (ipykernel)",
   "language": "python",
   "name": "python3"
  },
  "language_info": {
   "codemirror_mode": {
    "name": "ipython",
    "version": 3
   },
   "file_extension": ".py",
   "mimetype": "text/x-python",
   "name": "python",
   "nbconvert_exporter": "python",
   "pygments_lexer": "ipython3",
   "version": "3.7.11"
  }
 },
 "nbformat": 4,
 "nbformat_minor": 5
}
